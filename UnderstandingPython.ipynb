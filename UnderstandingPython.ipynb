{
  "nbformat": 4,
  "nbformat_minor": 0,
  "metadata": {
    "colab": {
      "provenance": [],
      "mount_file_id": "1mLOiOJ5HmdB4KfrPaDzFdSepGPM0oczq",
      "authorship_tag": "ABX9TyODQiG8roZZG9PZmm9c4+a3",
      "include_colab_link": true
    },
    "kernelspec": {
      "name": "python3",
      "display_name": "Python 3"
    },
    "language_info": {
      "name": "python"
    }
  },
  "cells": [
    {
      "cell_type": "markdown",
      "metadata": {
        "id": "view-in-github",
        "colab_type": "text"
      },
      "source": [
        "<a href=\"https://colab.research.google.com/github/Shakib22011/IT22011_Shakib_B51/blob/main/UnderstandingPython.ipynb\" target=\"_parent\"><img src=\"https://colab.research.google.com/assets/colab-badge.svg\" alt=\"Open In Colab\"/></a>"
      ]
    },
    {
      "cell_type": "code",
      "execution_count": null,
      "metadata": {
        "colab": {
          "base_uri": "https://localhost:8080/"
        },
        "id": "OzQNXyWR6sS7",
        "outputId": "2e418fa6-7294-4c3c-f4c9-650c356b0cd2"
      },
      "outputs": [
        {
          "output_type": "stream",
          "name": "stdout",
          "text": [
            "li1 = [2j, (1+3j), (2+4j), (3+5j), (4+6j), (5+7j)]\n",
            "li2 = [(2+4j), (4+6j), (6+8j), (8+10j), (10+12j), (12+14j)]\n",
            "li3 = [(2+6j), (5+9j), (8+12j), (11+15j), (14+18j), (17+21j)]\n",
            "Encoded Message Size (type: <class 'bytes'>): 145\n",
            "List Size (type: <class 'list'>): 120\n",
            "Encoded Message: b'\\xff\\xfe[\\x00(\\x002\\x00+\\x006\\x00j\\x00)\\x00,\\x00 \\x00(\\x005\\x00+\\x009\\x00j\\x00)\\x00,\\x00 \\x00(\\x008\\x00+\\x001\\x002\\x00j\\x00)\\x00,\\x00 \\x00(\\x001\\x001\\x00+\\x001\\x005\\x00j\\x00)\\x00,\\x00 \\x00(\\x001\\x004\\x00+\\x001\\x008\\x00j\\x00)\\x00,\\x00 \\x00(\\x001\\x007\\x00+\\x002\\x001\\x00j\\x00)\\x00]\\x00'\n",
            "Original list after addition: [(2+6j), (5+9j), (8+12j), (11+15j), (14+18j), (17+21j)]\n"
          ]
        }
      ],
      "source": [
        "#Understanding Python Code\n",
        "\n",
        "# Importing the 'sys' module to utilize system-specific parameters and functions.\n",
        "# Specifically, we will use `sys.getsizeof` to calculate the memory size of objects.\n",
        "import sys\n",
        "\n",
        "# Defining the ComplexOperations class to perform various operations on complex numbers.\n",
        "class ComplexOperations:\n",
        "    \"\"\"\n",
        "    A class that encapsulates operations on complex numbers,\n",
        "    including addition, memory size calculation, and list processing.\n",
        "    \"\"\"\n",
        "\n",
        "    # Constructor method that initializes the instance attributes of the class.\n",
        "    def __init__(self):\n",
        "        \"\"\"\n",
        "        Initializes three lists:\n",
        "        - `li1`: A list of six complex numbers generated from the range 0-5.\n",
        "        - `li2`: A list of six complex numbers generated from even numbers in the range 2-12.\n",
        "        - `li3`: An empty list to store the results of operations performed on `li1` and `li2`.\n",
        "        \"\"\"\n",
        "        # Initializing li1 as a list of complex numbers where the real part is from 0 to 5,\n",
        "        # and the imaginary part is 2 more than the real part (e.g., 0+2j, 1+3j, etc.).\n",
        "        self.li1 = [complex(_, 2 + _) for _ in range(6)]\n",
        "        # Initializing li2 as a list of complex numbers where the real part is even numbers from 2 to 12,\n",
        "        # and the imaginary part is 2 more than the real part (e.g., 2+4j, 4+6j, etc.).\n",
        "        self.li2 = [complex(_, 2 + _) for _ in range(2, 14, 2)]\n",
        "        # li3 is an empty list that will later store the sum of corresponding elements of li1 and li2.\n",
        "        self.li3 = []\n",
        "\n",
        "    # Defining a non-static method to add two complex numbers.\n",
        "    def add_complex(self, z1, z2):\n",
        "        \"\"\"\n",
        "        Adds two complex numbers.\n",
        "        :param z1: First complex number.\n",
        "        :param z2: Second complex number.\n",
        "        :return: The sum of the two complex numbers as a new complex number.\n",
        "        \"\"\"\n",
        "        return z1 + z2  # Performing addition of two complex numbers and return the result.\n",
        "\n",
        "    # Defining a method to compute and store the results of element-wise addition of li1 and li2 in li3.\n",
        "    def compute_result(self):\n",
        "        \"\"\"\n",
        "        Computing the element-wise addition of the complex numbers in `li1` and `li2`.\n",
        "        The results are stored in `li3`.\n",
        "        \"\"\"\n",
        "        # Iterating through the pairs of elements from li1 and li2 using the zip function.\n",
        "        for i, j in zip(self.li1, self.li2):\n",
        "            # Adding the current pair of elements (i from li1 and j from li2)\n",
        "            # and append the result to li3.\n",
        "            self.li3.append(self.add_complex(i, j))\n",
        "\n",
        "    # Defining a static method to calculate the memory size of an object,\n",
        "    # and encode strings for accurate memory size computation.\n",
        "    @staticmethod\n",
        "    def calculate_size(obj, encoding='utf-16'):\n",
        "        \"\"\"\n",
        "        Calculateing the memory size of an object. If the object is a string,\n",
        "        it is encoded to bytes using the specified encoding (default is 'utf-16').\n",
        "        :param obj: The object whose memory size is to be calculated.\n",
        "        :param encoding: The encoding to be used if the object is a string.\n",
        "        :return: A tuple containing:\n",
        "                 - Size of the object in bytes.\n",
        "                 - The encoded object (if the input is a string).\n",
        "        \"\"\"\n",
        "        if isinstance(obj, str):  # Checking if the object is a string.\n",
        "            # Encoding the string using the specified encoding and store it in encoded_obj.\n",
        "            encoded_obj = obj.encode(encoding)\n",
        "            # Returning the size of the encoded object in bytes and the encoded object itself.\n",
        "            return sys.getsizeof(encoded_obj), encoded_obj\n",
        "        # For non-string objects, returning their size in bytes.\n",
        "        return sys.getsizeof(obj)\n",
        "\n",
        "    # Defining a method to display the contents of the lists and their memory sizes.\n",
        "    def display_results(self):\n",
        "        \"\"\"\n",
        "        Displaying the contents of `li1`, `li2`, and `li3`.\n",
        "        It also computes and displays the memory size of `li3` and an encoded version of `li3`.\n",
        "        \"\"\"\n",
        "        # Printing the contents of li1, li2, and li3.\n",
        "        print(f\"li1 = {self.li1}\\nli2 = {self.li2}\\nli3 = {self.li3}\")\n",
        "\n",
        "        # Converting li3 to a string representation for encoding and memory size calculations.\n",
        "        encoded_message = str(self.li3)\n",
        "        # Calling the static method calculate_size to get the size and encoded object of the string representation of li3.\n",
        "        enc_size, enc_obj = ComplexOperations.calculate_size(encoded_message)\n",
        "        # Calling the static method calculate_size to calculate the memory size of li3 as a list.\n",
        "        list_size = ComplexOperations.calculate_size(self.li3)\n",
        "\n",
        "        # Printing the size (in bytes) of the encoded string and its type.\n",
        "        print(f\"Encoded Message Size (type: {type(enc_obj)}): {enc_size}\")\n",
        "        # Printing the size (in bytes) of li3 as a list and its type.\n",
        "        print(f\"List Size (type: {type(self.li3)}): {list_size}\")\n",
        "        # Printing the actual encoded object (the encoded string representation of li3).\n",
        "        print(f\"Encoded Message: {enc_obj}\")\n",
        "        # Printing the final contents of li3 after performing addition.\n",
        "        print(\"Original list after addition:\", self.li3)\n",
        "\n",
        "# Defining the main function as the entry point of the program.\n",
        "def main():\n",
        "    \"\"\"\n",
        "    The main function creates an instance of ComplexOperations, computes the results,\n",
        "    and displays the lists and memory sizes.\n",
        "    \"\"\"\n",
        "    # Creating an object (instance) of the ComplexOperations class.\n",
        "    complex_ops = ComplexOperations()\n",
        "\n",
        "    # Calling the compute_result method to add corresponding elements of li1 and li2,\n",
        "    # and store the results in li3.\n",
        "    complex_ops.compute_result()\n",
        "\n",
        "    # Calling the display_results method to print the lists and their memory sizes.\n",
        "    complex_ops.display_results()\n",
        "\n",
        "# Checking if the script is being executed as the main program.\n",
        "if __name__ == \"__main__\":\n",
        "    \"\"\"\n",
        "    If the script is run directly (not imported as a module),\n",
        "    execute the `main` function to start the program.\n",
        "    \"\"\"\n",
        "    main()  # Calling the main function.\n"
      ]
    },
    {
      "cell_type": "code",
      "source": [
        "#two lists are printed\n",
        "li = [i for i in range(10)]\n",
        "print(li)\n",
        "li1= li[:2]+li[3:]\n",
        "print(li1)"
      ],
      "metadata": {
        "colab": {
          "base_uri": "https://localhost:8080/"
        },
        "id": "3xTl2ixo83vF",
        "outputId": "66dc7cd6-202d-4d32-e5ee-3ee83205db9f"
      },
      "execution_count": null,
      "outputs": [
        {
          "output_type": "stream",
          "name": "stdout",
          "text": [
            "[0, 1, 2, 3, 4, 5, 6, 7, 8, 9]\n",
            "[0, 1, 3, 4, 5, 6, 7, 8, 9]\n"
          ]
        }
      ]
    },
    {
      "cell_type": "code",
      "source": [
        "#Finding the missing element\n",
        "# Way 1: USing set()\n",
        "li = [i for i in range(10)]\n",
        "print(li)\n",
        "li1= li[:2]+li[3:]\n",
        "print(li1)\n",
        "\n",
        "# Find the missing element\n",
        "missing_element = set(li) - set(li1)\n",
        "print(f\"The missing element is: {missing_element.pop()}\")\n",
        "\n",
        "## Way 2: Alternative Way\n",
        "li = [i for i in range(10)]\n",
        "print(f\"Original list: {li}\")\n",
        "li1 = li[:2] + li[3:]\n",
        "print(f\"Modified list: {li1}\")\n",
        "\n",
        "# Find the missing element using a for loop\n",
        "missing_element = None\n",
        "\n",
        "for item in li:\n",
        "    if item not in li1:\n",
        "        missing_element = item\n",
        "        break  # Exit the loop as soon as the missing element is found\n",
        "\n",
        "print(f\"The missing element is: {missing_element}\")"
      ],
      "metadata": {
        "colab": {
          "base_uri": "https://localhost:8080/"
        },
        "id": "g1TJZpub9G8b",
        "outputId": "daf837d7-2cbf-4fd1-af80-8a2c7534c832"
      },
      "execution_count": null,
      "outputs": [
        {
          "output_type": "stream",
          "name": "stdout",
          "text": [
            "[0, 1, 2, 3, 4, 5, 6, 7, 8, 9]\n",
            "[0, 1, 3, 4, 5, 6, 7, 8, 9]\n",
            "The missing element is: 2\n",
            "Original list: [0, 1, 2, 3, 4, 5, 6, 7, 8, 9]\n",
            "Modified list: [0, 1, 3, 4, 5, 6, 7, 8, 9]\n",
            "The missing element is: 2\n"
          ]
        }
      ]
    }
  ]
}