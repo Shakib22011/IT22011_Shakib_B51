{
  "nbformat": 4,
  "nbformat_minor": 0,
  "metadata": {
    "colab": {
      "provenance": [],
      "mount_file_id": "1EAQ4ulwVkpp385liFdzkbjvdtAQcE23I",
      "authorship_tag": "ABX9TyPTCA+BLTTySATl1W3F06Kv",
      "include_colab_link": true
    },
    "kernelspec": {
      "name": "python3",
      "display_name": "Python 3"
    },
    "language_info": {
      "name": "python"
    }
  },
  "cells": [
    {
      "cell_type": "markdown",
      "metadata": {
        "id": "view-in-github",
        "colab_type": "text"
      },
      "source": [
        "<a href=\"https://colab.research.google.com/github/Shakib22011/IT22011_Shakib_B51/blob/main/Custom_module.ipynb\" target=\"_parent\"><img src=\"https://colab.research.google.com/assets/colab-badge.svg\" alt=\"Open In Colab\"/></a>"
      ]
    },
    {
      "cell_type": "markdown",
      "source": [
        "Finding the elements those ro that are present in first half but not in second."
      ],
      "metadata": {
        "id": "jG4MyJ1veWLv"
      }
    },
    {
      "cell_type": "code",
      "source": [
        "def getMissingVals(lst, endOfFirstList, startOf2ndList):\n",
        "    list_1 = lst[:endOfFirstList]\n",
        "    list_2 = lst[startOf2ndList:]\n",
        "    print(list_1)\n",
        "    print(list_2)\n",
        "    missing_vals = [val for val in list_1 if val not in list_2]\n",
        "\n",
        "    if not missing_vals:\n",
        "        return \"No missing Val\"\n",
        "    else:\n",
        "        return missing_vals\n",
        "\n",
        "if __name__ == \"__main__\":\n",
        "    lst = [1, 2, 3, 4, 5, 6, 7, 1]\n",
        "    endOfFirstList = 4\n",
        "    startOf2ndList = 4\n",
        "    print(\"Missing Values:\", getMissingVals(lst, endOfFirstList, startOf2ndList))"
      ],
      "metadata": {
        "colab": {
          "base_uri": "https://localhost:8080/"
        },
        "id": "WxH3ZTLaepEo",
        "outputId": "498031a0-1405-4a6c-f88b-22a5293a5cca"
      },
      "execution_count": 20,
      "outputs": [
        {
          "output_type": "stream",
          "name": "stdout",
          "text": [
            "[1, 2, 3, 4]\n",
            "[5, 6, 7, 1]\n",
            "Missing Values: [2, 3, 4]\n"
          ]
        }
      ]
    }
  ]
}