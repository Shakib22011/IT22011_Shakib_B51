{
  "nbformat": 4,
  "nbformat_minor": 0,
  "metadata": {
    "colab": {
      "provenance": [],
      "mount_file_id": "1EAQ4ulwVkpp385liFdzkbjvdtAQcE23I",
      "authorship_tag": "ABX9TyN9H8WX+edwhzJkJmV4RAS6",
      "include_colab_link": true
    },
    "kernelspec": {
      "name": "python3",
      "display_name": "Python 3"
    },
    "language_info": {
      "name": "python"
    }
  },
  "cells": [
    {
      "cell_type": "markdown",
      "metadata": {
        "id": "view-in-github",
        "colab_type": "text"
      },
      "source": [
        "<a href=\"https://colab.research.google.com/github/Shakib22011/IT22011_Shakib_B51/blob/main/Custom_module.ipynb\" target=\"_parent\"><img src=\"https://colab.research.google.com/assets/colab-badge.svg\" alt=\"Open In Colab\"/></a>"
      ]
    },
    {
      "cell_type": "markdown",
      "source": [
        "Finding the elements those ro that are present in first half but not in second."
      ],
      "metadata": {
        "id": "jG4MyJ1veWLv"
      }
    },
    {
      "cell_type": "code",
      "source": [
        "def getMissingVals(lst, endOfFirstList, startOf2ndList):\n",
        "    list_1 = lst[:endOfFirstList]\n",
        "    list_2 = lst[startOf2ndList:]\n",
        "    print(\"list_1 =\",list_1)\n",
        "    print(\"list_2 =\",list_2)\n",
        "    missing_vals = [val for val in list_1 if val not in list_2]\n",
        "\n",
        "    if not missing_vals:\n",
        "        return \"No missing Val\"\n",
        "    else:\n",
        "        return missing_vals\n",
        "\n",
        "if __name__ == \"__main__\":\n",
        "    lst = [1, 2, 3, 4, 5, 6, 7, 1]\n",
        "    endOfFirstList = 4\n",
        "    startOf2ndList = 4\n",
        "    print(\"Missing Values not present in list_2 =\", getMissingVals(lst, endOfFirstList, startOf2ndList))"
      ],
      "metadata": {
        "colab": {
          "base_uri": "https://localhost:8080/"
        },
        "id": "WxH3ZTLaepEo",
        "outputId": "8b82ad24-d5b6-45eb-d12e-015f917654d8"
      },
      "execution_count": 24,
      "outputs": [
        {
          "output_type": "stream",
          "name": "stdout",
          "text": [
            "list_1 = [1, 2, 3, 4]\n",
            "list_2 = [5, 6, 7, 1]\n",
            "Missing Values not present in list_2 = [2, 3, 4]\n"
          ]
        }
      ]
    }
  ]
}